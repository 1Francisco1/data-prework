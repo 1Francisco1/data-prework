{
 "cells": [
  {
   "cell_type": "markdown",
   "metadata": {},
   "source": [
    "<img src=\"https://bit.ly/2VnXWr2\" width=\"100\" align=\"left\">"
   ]
  },
  {
   "cell_type": "markdown",
   "metadata": {},
   "source": [
    "# Temperature Sensor\n",
    "\n",
    "There is a temperature sensor in the processor of your company's server. The company wants to analyze the data provided by the sensor to decide if they should change the cooling system for a better one. As changing the cooling system is expensive and you are an excellent data analyst, you can't make a decision without basis.\n",
    "\n",
    "## Tools\n",
    "You don't necessarily need to use all the tools. Maybe you opt to use some of them or completely different ones, they are given to help you shape the exercise. Programming exercises can be solved in many different ways.\n",
    "1. Data structures: **lists**\n",
    "2. Loops: **list comprehension**\n",
    "3. Functions: **min, max, print, len**\n",
    "4. Conditional statements: **if-elif-else**\n",
    "\n",
    "## Tasks\n",
    "The temperatures measured throughout the 24 hours of a day are:"
   ]
  },
  {
   "cell_type": "code",
   "execution_count": null,
   "metadata": {},
   "outputs": [],
   "source": [
    "temperatures_C = [33, 66, 65, 0, 59, 60, 62, 64, 70, 76, 80, 81, 80, 83, 90, 79, 61, 53, 50, 49, 53, 48, 45, 39]"
   ]
  },
  {
   "cell_type": "markdown",
   "metadata": {},
   "source": [
    "The first element of the list is the temperature at 12am, the second element is the temperature at 1am, and so on. \n",
    "\n",
    "The company has decided that if one of the following events occurs, then the cooling system needs to be replaced for a new one to avoid damaging the processor.\n",
    "* More than 4 temperatures are greater than or equal to 70ºC.\n",
    "* Any temperature is above 80ºC.\n",
    "* The average temperature exceeds 65ºC.\n",
    "\n",
    "Follow the steps so that you can make the decision.\n",
    "\n",
    "#### 1. Find the minimum temperature of the day and store it in a variable."
   ]
  },
  {
   "cell_type": "code",
   "execution_count": null,
   "metadata": {},
   "outputs": [],
   "source": [
    "minimum_temp = min(temperatures_C)\n",
    "print(minimum_temp)"
   ]
  },
  {
   "cell_type": "markdown",
   "metadata": {},
   "source": [
    "#### 2. Find the maximum temperature of the day and store it in a variable."
   ]
  },
  {
   "cell_type": "code",
   "execution_count": null,
   "metadata": {},
   "outputs": [],
   "source": [
    "maximum_temp = max(temperatures_C)\n",
    "print(maximum_temp)"
   ]
  },
  {
   "cell_type": "markdown",
   "metadata": {},
   "source": [
    "#### 3. Create a list with the temperatures that are greater than or equal to 70ºC. Store it in a variable."
   ]
  },
  {
   "cell_type": "code",
   "execution_count": null,
   "metadata": {},
   "outputs": [],
   "source": [
    "temp_above70 = []\n",
    "\n",
    "for i in temperatures_C:\n",
    "    if i > 69:\n",
    "        temp_above70.append(i)\n",
    "print(temp_above70)"
   ]
  },
  {
   "cell_type": "markdown",
   "metadata": {},
   "source": [
    "#### 4. Find the average temperature of the day and store it in a variable."
   ]
  },
  {
   "cell_type": "code",
   "execution_count": null,
   "metadata": {},
   "outputs": [],
   "source": [
    "average_temp = sum(temperatures_C)/len(temperatures_C)\n",
    "print(average_temp)"
   ]
  },
  {
   "cell_type": "markdown",
   "metadata": {},
   "source": [
    "#### 5. Imagine that there was a sensor failure at 3am and the data for that specific hour was not recorded. How would you estimate the missing value? Replace the current value of the list at 3am for an estimation. "
   ]
  },
  {
   "cell_type": "code",
   "execution_count": null,
   "metadata": {},
   "outputs": [],
   "source": [
    "estimative_3am = (temperatures_C[2] + temperatures_C[4])/2\n",
    "print(estimative_3am)"
   ]
  },
  {
   "cell_type": "markdown",
   "metadata": {},
   "source": [
    "#### 6. Bonus: the maintenance staff is from the United States and does not understand the international metric system. Help them by converting the temperatures from Celsius to Fahrenheit.\n",
    "To know more about temperature conversion check this [link](https://en.wikipedia.org/wiki/Conversion_of_units_of_temperature).\n",
    "\n",
    "**Formula**: \n",
    "\n",
    "$F = 1.8 * C + 32$"
   ]
  },
  {
   "cell_type": "code",
   "execution_count": null,
   "metadata": {},
   "outputs": [],
   "source": [
    "temp_F = []\n",
    "for i in temperatures_C:\n",
    "    temp_F.append(1.8*i+32)\n",
    "print(temp_F)"
   ]
  },
  {
   "cell_type": "markdown",
   "metadata": {},
   "source": [
    "#### 7. Make a decision!\n",
    "Now it's time to make a decision taking into account what you have seen until now. \n",
    "\n",
    "Remember that if one of the following events occurs, then the cooling system needs to be replaced for a new one to avoid damaging the processor.\n",
    "* More than 4 temperatures are greater than or equal to 70ºC.\n",
    "* Any temperature is above 80ºC.\n",
    "* The average temperature exceeds 65ºC.\n",
    "\n",
    "#### To make your decision, check if any of the three conditions above is met. You might need to use some of the variables you created in steps 1 to 6. Print a message to show if the cooling system needs to be changed or not."
   ]
  },
  {
   "cell_type": "code",
   "execution_count": null,
   "metadata": {},
   "outputs": [],
   "source": [
    "check_more70 = 0\n",
    "\n",
    "for j in temperatures_C:\n",
    "    if j > 80:\n",
    "        print(\"system needs to be changed, surpasses 80 degrees\")\n",
    "    if j > average_temp:\n",
    "        print(\"system needs to be changed, average temperature more than 65\")\n",
    "    if j >= 70:\n",
    "        check_more70 += 1\n",
    "        if check_more70 >= 4:\n",
    "            print(\"system needs to be changed, more than 4 temps surpasses 70\")\n",
    "\n",
    "#The three conditions are met several times, system needs to be changed"
   ]
  },
  {
   "cell_type": "markdown",
   "metadata": {},
   "source": [
    "## Bonus\n",
    "\n",
    "The company has decided that the decision you made is not valid. They want you to analyze the data again but this time, the conditions that need to be met in order to change the cooling system are different.\n",
    "\n",
    "This time, if one of the following events occurs, then the cooling system needs to be replaced:\n",
    "* The temperature is greater than 70ºC during more than 4 consecutive hours.\n",
    "* Any temperature is above 80ºC.\n",
    "* The average temperature exceeds 65ºC.\n",
    "\n",
    "Follow the steps so that you can make the decision.\n",
    "\n",
    "#### 1. Create a list with the hours where the temperature is greater than 70ºC. Store it in a variable."
   ]
  },
  {
   "cell_type": "code",
   "execution_count": null,
   "metadata": {},
   "outputs": [],
   "source": [
    "hours_over_70 = []\n",
    "for i in range(len(temperatures_C)):\n",
    "    if(temperatures_C[i] > 70):\n",
    "        hours_over_70.append(i)"
   ]
  },
  {
   "cell_type": "markdown",
   "metadata": {},
   "source": [
    "#### 2. Check if the list you created in step 1 has more than 4 consecutive hours. "
   ]
  },
  {
   "cell_type": "code",
   "execution_count": null,
   "metadata": {},
   "outputs": [],
   "source": [
    "more_than_4_consec_hours = False\n",
    "for j in range(len(hours_over_70)-3):\n",
    "    h1 = hours_over_70[j]\n",
    "    h2 = hours_over_70[j+1]\n",
    "    h3 = hours_over_70[j+2]\n",
    "    h4 = hours_over_70[j+3]\n",
    "    if(h4 == h3 +1 and h3 == h2+1 and h2 == h1+1):\n",
    "        more_than_4_consec_hours = True"
   ]
  },
  {
   "cell_type": "markdown",
   "metadata": {},
   "source": [
    "#### 3. Make the decision!\n",
    "To make your decision, check if any of the three conditions is met. Print a message to show if the cooling system needs to be changed or not."
   ]
  },
  {
   "cell_type": "code",
   "execution_count": null,
   "metadata": {},
   "outputs": [],
   "source": [
    "hours_over_70 = []\n",
    "more_than_4_consec_hours = False\n",
    "any_over_80 = False\n",
    "average_temp = sum(temperatures_C)/len(temperatures_C)\n",
    "for i in range(len(temperatures_C)):\n",
    "    if(temperatures_C[i] > 70):\n",
    "        hours_over_70.append(i)\n",
    "\n",
    "for j in range(len(hours_over_70)-3):\n",
    "    h1 = hours_over_70[j]\n",
    "    h2 = hours_over_70[j+1]\n",
    "    h3 = hours_over_70[j+2]\n",
    "    h4 = hours_over_70[j+3]\n",
    "    if(h4 == h3 +1 and h3 == h2+1 and h2 == h1+1):\n",
    "        more_than_4_consec_hours = True\n",
    "    if(h4 > 80 or h3 > 80 or h2 > 80 or h1 >80):\n",
    "        any_over_80 = True\n",
    "\n",
    "if more_than_4_consec_hours or any_over_80 or average_temp > 65:\n",
    "    print(\"Replace cooling system\")\n",
    "else:\n",
    "    print(\"Do not replace cooling system\")"
   ]
  },
  {
   "cell_type": "markdown",
   "metadata": {},
   "source": [
    "#### 4. Find the average value of the temperature lists (ºC and ºF). What is the relation between both average values?"
   ]
  },
  {
   "cell_type": "code",
   "execution_count": null,
   "metadata": {},
   "outputs": [],
   "source": [
    "totalC = 0\n",
    "totalF = 0\n",
    "for k in temperatures_C:\n",
    "    totalC = totalC + k\n",
    "\n",
    "for l in temp_F:\n",
    "    totalF = totalF + l\n",
    "\n",
    "averageC = totalC/len(temperatures_C)\n",
    "print(averageC)\n",
    "\n",
    "averageF = totalF/len(temp_F)\n",
    "print(averageF)\n",
    "\n",
    "print(1.8*averageC+32)\n",
    "#The relation is that both averages are the same after aplying the converter formula in the Cº temperature average"
   ]
  },
  {
   "cell_type": "markdown",
   "metadata": {},
   "source": [
    "#### 5. Find the standard deviation of the temperature lists (ºC and ºF). What is the relation between both standard deviations?"
   ]
  },
  {
   "cell_type": "code",
   "execution_count": null,
   "metadata": {},
   "outputs": [],
   "source": [
    "C_pre_deviation = []\n",
    "\n",
    "for k in temperatures_C:\n",
    "        C_pre_deviation.append((k-averageC)**2)\n",
    "\n",
    "standard_deviationC = sum(C_pre_deviation)/len(C_pre_deviation)\n",
    "print(sqrt(standard_deviationC))\n",
    "\n",
    "\n",
    "F_pre_deviation = []\n",
    "\n",
    "for l in temp_F:\n",
    "    F_pre_deviation.append((l-averageF)**2)\n",
    "\n",
    "standard_deviationF = sum(F_pre_deviation)/len(F_pre_deviation)\n",
    "print(sqrt(standard_deviationF))\n",
    "\n",
    "#The Fº temperature has a higher deviation due to it having bigger numbers"
   ]
  }
 ],
 "metadata": {
  "kernelspec": {
   "display_name": "Python 3 (ipykernel)",
   "language": "python",
   "name": "python3"
  },
  "language_info": {
   "codemirror_mode": {
    "name": "ipython",
    "version": 3
   },
   "file_extension": ".py",
   "mimetype": "text/x-python",
   "name": "python",
   "nbconvert_exporter": "python",
   "pygments_lexer": "ipython3",
   "version": "3.7.2"
  }
 },
 "nbformat": 4,
 "nbformat_minor": 2
}
